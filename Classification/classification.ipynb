{
 "cells": [
  {
   "cell_type": "markdown",
   "id": "dc385116",
   "metadata": {},
   "source": [
    "### Importers"
   ]
  },
  {
   "cell_type": "code",
   "execution_count": 4,
   "id": "d6169d56",
   "metadata": {},
   "outputs": [],
   "source": [
    "import pandas as pd\n",
    "from sklearn.preprocessing import StandardScaler"
   ]
  },
  {
   "cell_type": "markdown",
   "id": "b5cb2682",
   "metadata": {},
   "source": [
    "### Retrieve CSV data"
   ]
  },
  {
   "cell_type": "code",
   "execution_count": 5,
   "id": "347d0954",
   "metadata": {},
   "outputs": [
    {
     "data": {
      "text/html": [
       "<div>\n",
       "<style scoped>\n",
       "    .dataframe tbody tr th:only-of-type {\n",
       "        vertical-align: middle;\n",
       "    }\n",
       "\n",
       "    .dataframe tbody tr th {\n",
       "        vertical-align: top;\n",
       "    }\n",
       "\n",
       "    .dataframe thead th {\n",
       "        text-align: right;\n",
       "    }\n",
       "</style>\n",
       "<table border=\"1\" class=\"dataframe\">\n",
       "  <thead>\n",
       "    <tr style=\"text-align: right;\">\n",
       "      <th></th>\n",
       "      <th>open</th>\n",
       "      <th>high</th>\n",
       "      <th>low</th>\n",
       "      <th>close</th>\n",
       "      <th>volume</th>\n",
       "      <th>rsi</th>\n",
       "      <th>macd</th>\n",
       "      <th>macd_signal</th>\n",
       "      <th>ema_20</th>\n",
       "      <th>sma_50</th>\n",
       "      <th>bollinger_m</th>\n",
       "      <th>bollinger_h</th>\n",
       "      <th>bollinger_l</th>\n",
       "      <th>adx</th>\n",
       "      <th>obv</th>\n",
       "    </tr>\n",
       "  </thead>\n",
       "  <tbody>\n",
       "    <tr>\n",
       "      <th>0</th>\n",
       "      <td>3223.81</td>\n",
       "      <td>3242.34</td>\n",
       "      <td>3188.17</td>\n",
       "      <td>3199.21</td>\n",
       "      <td>208.9777</td>\n",
       "      <td>27.571689</td>\n",
       "      <td>-67.489326</td>\n",
       "      <td>-44.385096</td>\n",
       "      <td>3327.124090</td>\n",
       "      <td>3391.8488</td>\n",
       "      <td>3377.8605</td>\n",
       "      <td>3673.135531</td>\n",
       "      <td>3082.585469</td>\n",
       "      <td>49.660240</td>\n",
       "      <td>-1824.9093</td>\n",
       "    </tr>\n",
       "    <tr>\n",
       "      <th>1</th>\n",
       "      <td>3196.94</td>\n",
       "      <td>3230.31</td>\n",
       "      <td>3174.58</td>\n",
       "      <td>3205.29</td>\n",
       "      <td>431.7211</td>\n",
       "      <td>28.870805</td>\n",
       "      <td>-68.359493</td>\n",
       "      <td>-49.179975</td>\n",
       "      <td>3315.520844</td>\n",
       "      <td>3391.2780</td>\n",
       "      <td>3360.7320</td>\n",
       "      <td>3654.313252</td>\n",
       "      <td>3067.150748</td>\n",
       "      <td>49.920375</td>\n",
       "      <td>-1393.1882</td>\n",
       "    </tr>\n",
       "    <tr>\n",
       "      <th>2</th>\n",
       "      <td>3205.82</td>\n",
       "      <td>3241.44</td>\n",
       "      <td>3115.71</td>\n",
       "      <td>3225.00</td>\n",
       "      <td>686.5435</td>\n",
       "      <td>33.062381</td>\n",
       "      <td>-66.689915</td>\n",
       "      <td>-52.681963</td>\n",
       "      <td>3306.899811</td>\n",
       "      <td>3391.2370</td>\n",
       "      <td>3345.2765</td>\n",
       "      <td>3633.212449</td>\n",
       "      <td>3057.340551</td>\n",
       "      <td>50.629763</td>\n",
       "      <td>-706.6447</td>\n",
       "    </tr>\n",
       "    <tr>\n",
       "      <th>3</th>\n",
       "      <td>3225.65</td>\n",
       "      <td>3233.64</td>\n",
       "      <td>3101.83</td>\n",
       "      <td>3105.77</td>\n",
       "      <td>603.9169</td>\n",
       "      <td>23.890807</td>\n",
       "      <td>-74.133066</td>\n",
       "      <td>-56.972184</td>\n",
       "      <td>3287.744591</td>\n",
       "      <td>3388.8268</td>\n",
       "      <td>3325.1490</td>\n",
       "      <td>3620.856088</td>\n",
       "      <td>3029.441912</td>\n",
       "      <td>51.387097</td>\n",
       "      <td>-1310.5616</td>\n",
       "    </tr>\n",
       "    <tr>\n",
       "      <th>4</th>\n",
       "      <td>3104.62</td>\n",
       "      <td>3151.03</td>\n",
       "      <td>3068.78</td>\n",
       "      <td>3132.68</td>\n",
       "      <td>688.5189</td>\n",
       "      <td>28.698339</td>\n",
       "      <td>-76.973108</td>\n",
       "      <td>-60.972369</td>\n",
       "      <td>3272.976535</td>\n",
       "      <td>3386.8030</td>\n",
       "      <td>3303.0005</td>\n",
       "      <td>3586.442153</td>\n",
       "      <td>3019.558847</td>\n",
       "      <td>52.314730</td>\n",
       "      <td>-622.0427</td>\n",
       "    </tr>\n",
       "  </tbody>\n",
       "</table>\n",
       "</div>"
      ],
      "text/plain": [
       "      open     high      low    close    volume        rsi       macd  \\\n",
       "0  3223.81  3242.34  3188.17  3199.21  208.9777  27.571689 -67.489326   \n",
       "1  3196.94  3230.31  3174.58  3205.29  431.7211  28.870805 -68.359493   \n",
       "2  3205.82  3241.44  3115.71  3225.00  686.5435  33.062381 -66.689915   \n",
       "3  3225.65  3233.64  3101.83  3105.77  603.9169  23.890807 -74.133066   \n",
       "4  3104.62  3151.03  3068.78  3132.68  688.5189  28.698339 -76.973108   \n",
       "\n",
       "   macd_signal       ema_20     sma_50  bollinger_m  bollinger_h  bollinger_l  \\\n",
       "0   -44.385096  3327.124090  3391.8488    3377.8605  3673.135531  3082.585469   \n",
       "1   -49.179975  3315.520844  3391.2780    3360.7320  3654.313252  3067.150748   \n",
       "2   -52.681963  3306.899811  3391.2370    3345.2765  3633.212449  3057.340551   \n",
       "3   -56.972184  3287.744591  3388.8268    3325.1490  3620.856088  3029.441912   \n",
       "4   -60.972369  3272.976535  3386.8030    3303.0005  3586.442153  3019.558847   \n",
       "\n",
       "         adx        obv  \n",
       "0  49.660240 -1824.9093  \n",
       "1  49.920375 -1393.1882  \n",
       "2  50.629763  -706.6447  \n",
       "3  51.387097 -1310.5616  \n",
       "4  52.314730  -622.0427  "
      ]
     },
     "execution_count": 5,
     "metadata": {},
     "output_type": "execute_result"
    }
   ],
   "source": [
    "df = pd.read_csv('../Dataset/df.csv', delimiter=',')\n",
    "df.head()"
   ]
  },
  {
   "cell_type": "markdown",
   "id": "3624dc34",
   "metadata": {},
   "source": [
    "### Split dataset"
   ]
  },
  {
   "cell_type": "code",
   "execution_count": 6,
   "id": "3c4c342e",
   "metadata": {},
   "outputs": [],
   "source": [
    "X = df.drop(columns=['close'])\n",
    "y = df['close']\n",
    "\n",
    "# Taille du jeu de test (ex: 20%)\n",
    "split_idx = int(len(df) * 0.8)\n",
    "\n",
    "X_train = X.iloc[:split_idx]\n",
    "X_test  = X.iloc[split_idx:]\n",
    "y_train = y.iloc[:split_idx]\n",
    "y_test  = y.iloc[split_idx:]\n",
    "\n",
    "# Standardisation\n",
    "scaler = StandardScaler()\n",
    "X_train_scaled = scaler.fit_transform(X_train)\n",
    "X_test_scaled = scaler.transform(X_test)"
   ]
  },
  {
   "cell_type": "markdown",
   "id": "1e1f78bb",
   "metadata": {},
   "source": [
    "### Prediction"
   ]
  },
  {
   "cell_type": "code",
   "execution_count": 8,
   "id": "2affad68",
   "metadata": {},
   "outputs": [],
   "source": [
    "from sklearn.svm import SVR\n",
    "model = SVR(kernel='rbf', C=100, epsilon=0.1)\n",
    "model.fit(X_train_scaled, y_train)\n",
    "y_pred = model.predict(X_test_scaled)"
   ]
  },
  {
   "cell_type": "markdown",
   "id": "981be842",
   "metadata": {},
   "source": [
    "Visualization"
   ]
  },
  {
   "cell_type": "code",
   "execution_count": 10,
   "id": "9241d2f5",
   "metadata": {},
   "outputs": [
    {
     "data": {
      "image/png": "[encoded data removed]",
      "text/plain": [
       "<Figure size 640x480 with 1 Axes>"
      ]
     },
     "metadata": {},
     "output_type": "display_data"
    }
   ],
   "source": [
    "import matplotlib.pyplot as plt\n",
    "import numpy as np\n",
    "#visualize model\n",
    "x = y_test\n",
    "y = y_pred\n",
    "plt.title('SVR Model', fontsize = 15, color = 'g', pad = 12)\n",
    "plt.plot(x, y, 'o', color = 'b')\n",
    "m, b = np.polyfit(x, y, 1)\n",
    "plt.plot(x, m * x + b, color = 'darkblue')\n",
    "plt.xlabel('Actual')\n",
    "plt.ylabel('Predicted')\n",
    "plt.show()"
   ]
  }
 ],
 "metadata": {
  "kernelspec": {
   "display_name": "Python 3",
   "language": "python",
   "name": "python3"
  },
  "language_info": {
   "codemirror_mode": {
    "name": "ipython",
    "version": 3
   },
   "file_extension": ".py",
   "mimetype": "text/x-python",
   "name": "python",
   "nbconvert_exporter": "python",
   "pygments_lexer": "ipython3",
   "version": "3.10.11"
  }
 },
 "nbformat": 4,
 "nbformat_minor": 5
}
